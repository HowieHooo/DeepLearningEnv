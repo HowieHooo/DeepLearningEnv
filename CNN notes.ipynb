{
 "cells": [
  {
   "cell_type": "markdown",
   "metadata": {},
   "source": [
    "# Note1 Intro to tensorflow\n",
    "\n",
    "#### 1.Numbers or letters are not store in integers or floats or strings, instead, there are store as as \"tensors\", which is the basic data type in tensorflow(zhangliang)\n",
    "\n",
    "import tensorflow as tf\n",
    "\n",
    "for constants, use tf.costants()\n",
    "e.x.\n",
    "A = tf.constants(1) A is a 0 demention int32 tensor\n",
    "\n",
    "\n",
    "#### 2.Session is the enviroment to run a computational graph, written as:\n",
    "\n",
    "with tf.Session() as sess:\n",
    "    sess.run()\n",
    "        \n",
    "#### 3.If the tensor is not a constant, we have to use a placeholder to hold for the tensor value, and assign it with specific value before the session runs(because session handles the operation to the GPU or CPU, this suits fine)\n",
    "ex\n",
    "A = tf.placeholder(int32)\n",
    "Note: If you want to assign a tensor to a placeholder then you have to assign a tensortype, otherwise when you feed to it before the session run, it'll throw error.\n",
    "\n",
    "How to feed the value:\n",
    "\n",
    "with tf.Session() as sess:\n",
    "    ouptut or something else = sess.run(A, feed_dict={A: 55})\n",
    "\n",
    "#### one hot encoding, there are more questions to ask about:\n",
    "1.why is the labels shape changed?\n",
    "2. after passing a global variable and run it the second time, it still changes the shape?\n",
    "3.lb.classes_ = np.array(list(range(10))) whats the meaning of this?"
   ]
  },
  {
   "cell_type": "code",
   "execution_count": null,
   "metadata": {
    "collapsed": true
   },
   "outputs": [],
   "source": []
  }
 ],
 "metadata": {
  "kernelspec": {
   "display_name": "Python 3",
   "language": "python",
   "name": "python3"
  },
  "language_info": {
   "codemirror_mode": {
    "name": "ipython",
    "version": 3
   },
   "file_extension": ".py",
   "mimetype": "text/x-python",
   "name": "python",
   "nbconvert_exporter": "python",
   "pygments_lexer": "ipython3",
   "version": "3.6.0"
  }
 },
 "nbformat": 4,
 "nbformat_minor": 2
}
